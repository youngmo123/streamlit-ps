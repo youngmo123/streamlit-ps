{
 "cells": [
  {
   "cell_type": "code",
   "execution_count": 1,
   "metadata": {},
   "outputs": [
    {
     "name": "stdout",
     "output_type": "stream",
     "text": [
      "Collecting pydub\n",
      "  Downloading pydub-0.25.1-py2.py3-none-any.whl.metadata (1.4 kB)\n",
      "Downloading pydub-0.25.1-py2.py3-none-any.whl (32 kB)\n",
      "Installing collected packages: pydub\n",
      "Successfully installed pydub-0.25.1\n"
     ]
    }
   ],
   "source": [
    "! pip install pydub"
   ]
  },
  {
   "cell_type": "code",
   "execution_count": 1,
   "metadata": {},
   "outputs": [],
   "source": [
    "import seaborn"
   ]
  },
  {
   "cell_type": "code",
   "execution_count": 4,
   "metadata": {},
   "outputs": [
    {
     "name": "stdout",
     "output_type": "stream",
     "text": [
      "잘라낸 음성 파일이 저장되었습니다: storage/sample_10min.wav\n"
     ]
    }
   ],
   "source": [
    "from pydub import AudioSegment\n",
    "\n",
    "def trim_audio(input_file, output_file, start_time=0, end_time=600):\n",
    "    \"\"\"\n",
    "    음성 파일을 특정 구간으로 자르는 함수.\n",
    "    \n",
    "    Args:\n",
    "        input_file (str): 입력 음성 파일 경로.\n",
    "        output_file (str): 잘라낸 음성을 저장할 경로.\n",
    "        start_time (int): 시작 시간 (초 단위).\n",
    "        end_time (int): 끝나는 시간 (초 단위).\n",
    "    \"\"\"\n",
    "    # 음성 파일 로드\n",
    "    audio = AudioSegment.from_file(input_file)\n",
    "    \n",
    "    # 시간 단위를 밀리초로 변환\n",
    "    start_ms = start_time * 1000  # 시작 시간 (밀리초)\n",
    "    end_ms = end_time * 1000      # 끝나는 시간 (밀리초)\n",
    "\n",
    "    # 지정된 구간만 잘라내기\n",
    "    trimmed_audio = audio[start_ms:end_ms]\n",
    "\n",
    "    # 잘라낸 오디오 파일 저장\n",
    "    trimmed_audio.export(output_file, format=\"wav\")\n",
    "    print(f\"잘라낸 음성 파일이 저장되었습니다: {output_file}\")\n",
    "\n",
    "# 사용 예제\n",
    "input_file = \"storage/sample.wav\"  # 입력 파일 경로\n",
    "output_file = \"storage/sample_10min.wav\"  # 출력 파일 경로\n",
    "trim_audio(input_file, output_file)"
   ]
  },
  {
   "cell_type": "code",
   "execution_count": null,
   "metadata": {},
   "outputs": [],
   "source": []
  }
 ],
 "metadata": {
  "kernelspec": {
   "display_name": "base",
   "language": "python",
   "name": "python3"
  },
  "language_info": {
   "codemirror_mode": {
    "name": "ipython",
    "version": 3
   },
   "file_extension": ".py",
   "mimetype": "text/x-python",
   "name": "python",
   "nbconvert_exporter": "python",
   "pygments_lexer": "ipython3",
   "version": "3.12.4"
  }
 },
 "nbformat": 4,
 "nbformat_minor": 2
}
